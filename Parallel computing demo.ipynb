{
 "cells": [
  {
   "cell_type": "code",
   "execution_count": 61,
   "id": "91a72fa3",
   "metadata": {},
   "outputs": [],
   "source": [
    "from ipywidgets import IntText, Layout\n",
    "from IPython.display import display\n",
    "import matplotlib.pyplot as plt\n",
    "import numpy as np"
   ]
  },
  {
   "cell_type": "code",
   "execution_count": 72,
   "id": "b9160f2f",
   "metadata": {},
   "outputs": [
    {
     "data": {
      "application/vnd.jupyter.widget-view+json": {
       "model_id": "99e6a55a92e34a9c9e5915c1fc10c8d7",
       "version_major": 2,
       "version_minor": 0
      },
      "text/plain": [
       "IntText(value=0, description='Time when parallel leader finished sum', layout=Layout(width='400px'), style=Des…"
      ]
     },
     "metadata": {},
     "output_type": "display_data"
    },
    {
     "data": {
      "application/vnd.jupyter.widget-view+json": {
       "model_id": "9329952ccdb342c5844ec712ed5a0be7",
       "version_major": 2,
       "version_minor": 0
      },
      "text/plain": [
       "IntText(value=0, description='Time when parallel asst 1 finished sum', layout=Layout(width='400px'), style=Des…"
      ]
     },
     "metadata": {},
     "output_type": "display_data"
    },
    {
     "data": {
      "application/vnd.jupyter.widget-view+json": {
       "model_id": "852e316fd9a94ffa91629f0f6aff220e",
       "version_major": 2,
       "version_minor": 0
      },
      "text/plain": [
       "IntText(value=0, description='Time when parallel asst 2 finished sum', layout=Layout(width='400px'), style=Des…"
      ]
     },
     "metadata": {},
     "output_type": "display_data"
    },
    {
     "data": {
      "application/vnd.jupyter.widget-view+json": {
       "model_id": "d39077c7068041c48bcdc0acb8a514c5",
       "version_major": 2,
       "version_minor": 0
      },
      "text/plain": [
       "IntText(value=0, description='Time when parallel asst 3 finished sum', layout=Layout(width='400px'), style=Des…"
      ]
     },
     "metadata": {},
     "output_type": "display_data"
    },
    {
     "data": {
      "application/vnd.jupyter.widget-view+json": {
       "model_id": "6e7222712ad345d7b188b422cf2282a4",
       "version_major": 2,
       "version_minor": 0
      },
      "text/plain": [
       "IntText(value=0, description='Time when serial finished sum', layout=Layout(width='400px'), style=DescriptionS…"
      ]
     },
     "metadata": {},
     "output_type": "display_data"
    },
    {
     "data": {
      "application/vnd.jupyter.widget-view+json": {
       "model_id": "c3eb9b24ca2346789d142ffbd813bdf7",
       "version_major": 2,
       "version_minor": 0
      },
      "text/plain": [
       "IntText(value=0, description='Time when parallel asst 1 delivered sum', layout=Layout(width='400px'), style=De…"
      ]
     },
     "metadata": {},
     "output_type": "display_data"
    },
    {
     "data": {
      "application/vnd.jupyter.widget-view+json": {
       "model_id": "35108a13366e41b1867967627a5ad350",
       "version_major": 2,
       "version_minor": 0
      },
      "text/plain": [
       "IntText(value=0, description='Time when parallel asst 2 delivered sum', layout=Layout(width='400px'), style=De…"
      ]
     },
     "metadata": {},
     "output_type": "display_data"
    },
    {
     "data": {
      "application/vnd.jupyter.widget-view+json": {
       "model_id": "c27d97109b2c4c2bb2c28e868f4cc6be",
       "version_major": 2,
       "version_minor": 0
      },
      "text/plain": [
       "IntText(value=0, description='Time when parallel asst 3 delivered sum', layout=Layout(width='400px'), style=De…"
      ]
     },
     "metadata": {},
     "output_type": "display_data"
    },
    {
     "data": {
      "application/vnd.jupyter.widget-view+json": {
       "model_id": "e512158264b949c8ad6193a124d57beb",
       "version_major": 2,
       "version_minor": 0
      },
      "text/plain": [
       "IntText(value=0, description='Time when parallel calculations done', layout=Layout(width='400px'), style=Descr…"
      ]
     },
     "metadata": {},
     "output_type": "display_data"
    },
    {
     "data": {
      "application/vnd.jupyter.widget-view+json": {
       "model_id": "539108c8e350451e9ad2bbb66416437d",
       "version_major": 2,
       "version_minor": 0
      },
      "text/plain": [
       "IntText(value=0, description='Time when serial calculations done', layout=Layout(width='400px'), style=Descrip…"
      ]
     },
     "metadata": {},
     "output_type": "display_data"
    }
   ],
   "source": [
    "style = {'description_width': '300px'}\n",
    "layout = Layout(width='400px')\n",
    "\n",
    "p0sum = IntText(value=0, description='Time when parallel leader finished sum', style=style, layout=layout)\n",
    "p1sum = IntText(value=0, description='Time when parallel asst 1 finished sum', style=style, layout=layout)\n",
    "p2sum = IntText(value=0, description='Time when parallel asst 2 finished sum', style=style, layout=layout)\n",
    "p3sum = IntText(value=0, description='Time when parallel asst 3 finished sum', style=style, layout=layout)\n",
    "ssum = IntText(value=0, description='Time when serial finished sum', style=style, layout=layout)\n",
    "\n",
    "p1del = IntText(value=0, description='Time when parallel asst 1 delivered sum', style=style, layout=layout)\n",
    "p2del = IntText(value=0, description='Time when parallel asst 2 delivered sum', style=style, layout=layout)\n",
    "p3del = IntText(value=0, description='Time when parallel asst 3 delivered sum', style=style, layout=layout)\n",
    "\n",
    "pdone = IntText(value=0, description='Time when parallel calculations done', style=style, layout=layout)\n",
    "sdone = IntText(value=0, description='Time when serial calculations done', style=style, layout=layout)\n",
    "\n",
    "display(p0sum)\n",
    "display(p1sum)\n",
    "display(p2sum)\n",
    "display(p3sum)\n",
    "display(ssum)\n",
    "display(p1del)\n",
    "display(p2del)\n",
    "display(p3del)\n",
    "display(pdone)\n",
    "display(sdone)"
   ]
  },
  {
   "cell_type": "code",
   "execution_count": 106,
   "id": "93c8fbe4",
   "metadata": {},
   "outputs": [],
   "source": [
    "comm1 = p1del.value - p1sum.value\n",
    "comm2 = p2del.value - p2sum.value\n",
    "comm3 = p3del.value - p3sum.value\n",
    "sync = max(p0sum.value, p1del.value, p2del.value, p3del.value)\n",
    "idle0 = sync - p0sum.value\n",
    "idle1 = sync - p1del.value\n",
    "idle2 = sync - p2del.value\n",
    "idle3 = sync - p3del.value\n",
    "additional_parallel = pdone.value - sync\n",
    "additional_serial = sdone.value - ssum.value"
   ]
  },
  {
   "cell_type": "code",
   "execution_count": 114,
   "id": "8e4cd76b",
   "metadata": {},
   "outputs": [
    {
     "data": {
      "image/png": "[encoded data removed]",
      "text/plain": [
       "<Figure size 640x480 with 1 Axes>"
      ]
     },
     "metadata": {},
     "output_type": "display_data"
    }
   ],
   "source": [
    "processors = (\n",
    "    \"Parallel\\nleader\",\n",
    "    \"Parallel\\nasst 1\",\n",
    "    \"Parallel\\nasst 2\",\n",
    "    \"Parallel\\nasst 3\",\n",
    ")\n",
    "weight_counts = {\n",
    "    \"Sum\": np.array([p0sum.value, p1sum.value, p2sum.value, p3sum.value]),\n",
    "    \"Comm\": np.array([0, comm1, comm2, comm3]),\n",
    "    \"Idle\": np.array([idle0, idle1, idle2, idle3]),\n",
    "    \"Additional\": np.array([additional_parallel, 0, 0, 0]),\n",
    "}\n",
    "width = 0.5\n",
    "\n",
    "fig, ax = plt.subplots()\n",
    "bottom = np.zeros(4)\n",
    "\n",
    "for boolean, weight_count in weight_counts.items():\n",
    "    p = ax.bar(processors, weight_count, width, label=boolean, bottom=bottom)\n",
    "    bottom += weight_count\n",
    "\n",
    "ax.set_ylim(0, pdone.value*1.5)\n",
    "ax.set_title(\"Wall time\")\n",
    "ax.legend(loc=\"upper right\")\n",
    "ax.plot([-0.25, 3.25], [sync, sync], \"k--\")\n",
    "\n",
    "plt.show()"
   ]
  },
  {
   "cell_type": "code",
   "execution_count": 111,
   "id": "364f60d7",
   "metadata": {},
   "outputs": [
    {
     "data": {
      "image/png": "[encoded data removed]",
      "text/plain": [
       "<Figure size 640x480 with 1 Axes>"
      ]
     },
     "metadata": {},
     "output_type": "display_data"
    }
   ],
   "source": [
    "processors = (\n",
    "    \"Serial\",\n",
    "    \"Parallel\\nleader\",\n",
    "    \"Parallel\\nasst 1\",\n",
    "    \"Parallel\\nasst 2\",\n",
    "    \"Parallel\\nasst 3\",\n",
    ")\n",
    "weight_counts = {\n",
    "    \"Sum\": np.array([sdone.value, p0sum.value, p1sum.value, p2sum.value, p3sum.value]),\n",
    "    \"Comm\": np.array([0, 0, comm1, comm2, comm3]),\n",
    "    \"Idle\": np.array([0, idle0, idle1, idle2, idle3]),\n",
    "    \"Additional\": np.array([additional_serial, additional_parallel, 0, 0, 0]),\n",
    "}\n",
    "width = 0.5\n",
    "\n",
    "fig, ax = plt.subplots()\n",
    "bottom = np.zeros(5)\n",
    "\n",
    "for boolean, weight_count in weight_counts.items():\n",
    "    p = ax.bar(processors, weight_count, width, label=boolean, bottom=bottom)\n",
    "    bottom += weight_count\n",
    "\n",
    "ax.set_title(\"Wall time\")\n",
    "ax.legend(loc=\"upper right\")\n",
    "ax.plot([0.75, 4.25], [sync, sync], \"k--\")\n",
    "\n",
    "plt.show()"
   ]
  },
  {
   "cell_type": "code",
   "execution_count": null,
   "id": "0867a5c2",
   "metadata": {},
   "outputs": [],
   "source": []
  }
 ],
 "metadata": {
  "kernelspec": {
   "display_name": "Python 3 (ipykernel)",
   "language": "python",
   "name": "python3"
  },
  "language_info": {
   "codemirror_mode": {
    "name": "ipython",
    "version": 3
   },
   "file_extension": ".py",
   "mimetype": "text/x-python",
   "name": "python",
   "nbconvert_exporter": "python",
   "pygments_lexer": "ipython3",
   "version": "3.11.5"
  }
 },
 "nbformat": 4,
 "nbformat_minor": 5
}
